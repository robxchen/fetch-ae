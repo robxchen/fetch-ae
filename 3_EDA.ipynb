{
 "cells": [
  {
   "cell_type": "code",
   "execution_count": 1,
   "id": "9dcb4045-3489-41ba-9957-0c3b0467fc3c",
   "metadata": {},
   "outputs": [],
   "source": [
    "import pandas as pd\n",
    "import numpy as np\n",
    "import json\n",
    "from pandas import json_normalize\n",
    "from datetime import datetime as dt"
   ]
  },
  {
   "cell_type": "code",
   "execution_count": 2,
   "id": "58900ab8-5ac5-4676-adb3-def04351657b",
   "metadata": {},
   "outputs": [],
   "source": [
    "brands_df = pd.read_json('brands.json', lines=True)\n",
    "receipts_df = pd.read_json('receipts.json', lines=True)\n",
    "users_df = pd.read_json('users.json', lines=True)"
   ]
  },
  {
   "cell_type": "code",
   "execution_count": 3,
   "id": "b02800c5-f8a1-4ace-8912-2531f0040612",
   "metadata": {},
   "outputs": [],
   "source": [
    "# brands_df.to_csv('brands.csv', index=False)\n",
    "# receipts_df.to_csv('receipts.csv', index=False)\n",
    "# users_df.to_csv('users.csv', index=False)"
   ]
  },
  {
   "cell_type": "markdown",
   "id": "c1daa14c-9031-4e5d-b976-538d5193194b",
   "metadata": {},
   "source": [
    "### Investigate brands data"
   ]
  },
  {
   "cell_type": "code",
   "execution_count": 4,
   "id": "bdeb7e73-8c5c-4b06-9046-ce1b88a65365",
   "metadata": {},
   "outputs": [],
   "source": [
    "cpg_df = pd.json_normalize(brands_df['cpg'], sep='_').add_prefix('cpg_')\n",
    "brands_df = pd.concat([brands_df.drop('cpg', axis=1), cpg_df], axis=1)"
   ]
  },
  {
   "cell_type": "code",
   "execution_count": 5,
   "id": "43567563-dc16-4e2f-b8cd-596ddf7bc875",
   "metadata": {},
   "outputs": [],
   "source": [
    "cpg_df.to_csv('cpg_df.csv', index=False)"
   ]
  },
  {
   "cell_type": "code",
   "execution_count": 6,
   "id": "79b1565c-9234-4a33-8568-13d7cb988565",
   "metadata": {},
   "outputs": [
    {
     "data": {
      "text/html": [
       "<div>\n",
       "<style scoped>\n",
       "    .dataframe tbody tr th:only-of-type {\n",
       "        vertical-align: middle;\n",
       "    }\n",
       "\n",
       "    .dataframe tbody tr th {\n",
       "        vertical-align: top;\n",
       "    }\n",
       "\n",
       "    .dataframe thead th {\n",
       "        text-align: right;\n",
       "    }\n",
       "</style>\n",
       "<table border=\"1\" class=\"dataframe\">\n",
       "  <thead>\n",
       "    <tr style=\"text-align: right;\">\n",
       "      <th></th>\n",
       "      <th>_id</th>\n",
       "      <th>barcode</th>\n",
       "      <th>category</th>\n",
       "      <th>categoryCode</th>\n",
       "      <th>name</th>\n",
       "      <th>topBrand</th>\n",
       "      <th>brandCode</th>\n",
       "      <th>cpg_$ref</th>\n",
       "      <th>cpg_$id_$oid</th>\n",
       "    </tr>\n",
       "  </thead>\n",
       "  <tbody>\n",
       "    <tr>\n",
       "      <th>0</th>\n",
       "      <td>{'$oid': '601ac115be37ce2ead437551'}</td>\n",
       "      <td>511111019862</td>\n",
       "      <td>Baking</td>\n",
       "      <td>BAKING</td>\n",
       "      <td>test brand @1612366101024</td>\n",
       "      <td>0.0</td>\n",
       "      <td>NaN</td>\n",
       "      <td>Cogs</td>\n",
       "      <td>601ac114be37ce2ead437550</td>\n",
       "    </tr>\n",
       "    <tr>\n",
       "      <th>1</th>\n",
       "      <td>{'$oid': '601c5460be37ce2ead43755f'}</td>\n",
       "      <td>511111519928</td>\n",
       "      <td>Beverages</td>\n",
       "      <td>BEVERAGES</td>\n",
       "      <td>Starbucks</td>\n",
       "      <td>0.0</td>\n",
       "      <td>STARBUCKS</td>\n",
       "      <td>Cogs</td>\n",
       "      <td>5332f5fbe4b03c9a25efd0ba</td>\n",
       "    </tr>\n",
       "    <tr>\n",
       "      <th>2</th>\n",
       "      <td>{'$oid': '601ac142be37ce2ead43755d'}</td>\n",
       "      <td>511111819905</td>\n",
       "      <td>Baking</td>\n",
       "      <td>BAKING</td>\n",
       "      <td>test brand @1612366146176</td>\n",
       "      <td>0.0</td>\n",
       "      <td>TEST BRANDCODE @1612366146176</td>\n",
       "      <td>Cogs</td>\n",
       "      <td>601ac142be37ce2ead437559</td>\n",
       "    </tr>\n",
       "    <tr>\n",
       "      <th>3</th>\n",
       "      <td>{'$oid': '601ac142be37ce2ead43755a'}</td>\n",
       "      <td>511111519874</td>\n",
       "      <td>Baking</td>\n",
       "      <td>BAKING</td>\n",
       "      <td>test brand @1612366146051</td>\n",
       "      <td>0.0</td>\n",
       "      <td>TEST BRANDCODE @1612366146051</td>\n",
       "      <td>Cogs</td>\n",
       "      <td>601ac142be37ce2ead437559</td>\n",
       "    </tr>\n",
       "    <tr>\n",
       "      <th>4</th>\n",
       "      <td>{'$oid': '601ac142be37ce2ead43755e'}</td>\n",
       "      <td>511111319917</td>\n",
       "      <td>Candy &amp; Sweets</td>\n",
       "      <td>CANDY_AND_SWEETS</td>\n",
       "      <td>test brand @1612366146827</td>\n",
       "      <td>0.0</td>\n",
       "      <td>TEST BRANDCODE @1612366146827</td>\n",
       "      <td>Cogs</td>\n",
       "      <td>5332fa12e4b03c9a25efd1e7</td>\n",
       "    </tr>\n",
       "  </tbody>\n",
       "</table>\n",
       "</div>"
      ],
      "text/plain": [
       "                                    _id       barcode        category  \\\n",
       "0  {'$oid': '601ac115be37ce2ead437551'}  511111019862          Baking   \n",
       "1  {'$oid': '601c5460be37ce2ead43755f'}  511111519928       Beverages   \n",
       "2  {'$oid': '601ac142be37ce2ead43755d'}  511111819905          Baking   \n",
       "3  {'$oid': '601ac142be37ce2ead43755a'}  511111519874          Baking   \n",
       "4  {'$oid': '601ac142be37ce2ead43755e'}  511111319917  Candy & Sweets   \n",
       "\n",
       "       categoryCode                       name  topBrand  \\\n",
       "0            BAKING  test brand @1612366101024       0.0   \n",
       "1         BEVERAGES                  Starbucks       0.0   \n",
       "2            BAKING  test brand @1612366146176       0.0   \n",
       "3            BAKING  test brand @1612366146051       0.0   \n",
       "4  CANDY_AND_SWEETS  test brand @1612366146827       0.0   \n",
       "\n",
       "                       brandCode cpg_$ref              cpg_$id_$oid  \n",
       "0                            NaN     Cogs  601ac114be37ce2ead437550  \n",
       "1                      STARBUCKS     Cogs  5332f5fbe4b03c9a25efd0ba  \n",
       "2  TEST BRANDCODE @1612366146176     Cogs  601ac142be37ce2ead437559  \n",
       "3  TEST BRANDCODE @1612366146051     Cogs  601ac142be37ce2ead437559  \n",
       "4  TEST BRANDCODE @1612366146827     Cogs  5332fa12e4b03c9a25efd1e7  "
      ]
     },
     "execution_count": 6,
     "metadata": {},
     "output_type": "execute_result"
    }
   ],
   "source": [
    "brands_df.head()"
   ]
  },
  {
   "cell_type": "code",
   "execution_count": 7,
   "id": "0457f899-8c8f-49b7-864f-916b02e8aa97",
   "metadata": {},
   "outputs": [
    {
     "data": {
      "text/plain": [
       "_id              object\n",
       "barcode           int64\n",
       "category         object\n",
       "categoryCode     object\n",
       "name             object\n",
       "topBrand        float64\n",
       "brandCode        object\n",
       "cpg_$ref         object\n",
       "cpg_$id_$oid     object\n",
       "dtype: object"
      ]
     },
     "execution_count": 7,
     "metadata": {},
     "output_type": "execute_result"
    }
   ],
   "source": [
    "brands_df.dtypes"
   ]
  },
  {
   "cell_type": "code",
   "execution_count": 8,
   "id": "6b523154-8a24-4be5-ab81-a7542d5f9f01",
   "metadata": {
    "scrolled": true
   },
   "outputs": [
    {
     "data": {
      "text/plain": [
       "_id               0\n",
       "barcode           0\n",
       "category        155\n",
       "categoryCode    650\n",
       "name              0\n",
       "topBrand        612\n",
       "brandCode       234\n",
       "cpg_$ref          0\n",
       "cpg_$id_$oid      0\n",
       "dtype: int64"
      ]
     },
     "execution_count": 8,
     "metadata": {},
     "output_type": "execute_result"
    }
   ],
   "source": [
    "brands_df.isnull().sum()"
   ]
  },
  {
   "cell_type": "code",
   "execution_count": 9,
   "id": "a4282fd6-f102-417c-b406-c0eb2a492dc8",
   "metadata": {},
   "outputs": [
    {
     "data": {
      "text/plain": [
       "1167"
      ]
     },
     "execution_count": 9,
     "metadata": {},
     "output_type": "execute_result"
    }
   ],
   "source": [
    "len(brands_df)"
   ]
  },
  {
   "cell_type": "code",
   "execution_count": 10,
   "id": "048f1ca7-bee5-4bee-8084-d42195e337f9",
   "metadata": {
    "scrolled": true
   },
   "outputs": [
    {
     "data": {
      "text/plain": [
       "topBrand\n",
       "0.0    524\n",
       "1.0     31\n",
       "Name: count, dtype: int64"
      ]
     },
     "execution_count": 10,
     "metadata": {},
     "output_type": "execute_result"
    }
   ],
   "source": [
    "brands_df['topBrand'].value_counts()"
   ]
  },
  {
   "cell_type": "code",
   "execution_count": 11,
   "id": "d4756a43-baf4-4506-9fdd-420e632ec115",
   "metadata": {
    "scrolled": true
   },
   "outputs": [
    {
     "data": {
      "text/plain": [
       "category\n",
       "Baking                         369\n",
       "Beer Wine Spirits               90\n",
       "Snacks                          75\n",
       "Candy & Sweets                  71\n",
       "Beverages                       63\n",
       "Magazines                       44\n",
       "Health & Wellness               44\n",
       "Breakfast & Cereal              40\n",
       "Grocery                         39\n",
       "Dairy                           33\n",
       "Condiments & Sauces             27\n",
       "Frozen                          24\n",
       "Personal Care                   20\n",
       "Baby                            18\n",
       "Canned Goods & Soups            12\n",
       "Beauty                           9\n",
       "Beauty & Personal Care           6\n",
       "Cleaning & Home Improvement      6\n",
       "Deli                             6\n",
       "Household                        5\n",
       "Bread & Bakery                   5\n",
       "Dairy & Refrigerated             5\n",
       "Outdoor                          1\n",
       "Name: count, dtype: int64"
      ]
     },
     "execution_count": 11,
     "metadata": {},
     "output_type": "execute_result"
    }
   ],
   "source": [
    "brands_df['category'].value_counts()"
   ]
  },
  {
   "cell_type": "code",
   "execution_count": 12,
   "id": "7ba230e4-a98d-4a60-90b5-8e16562247fe",
   "metadata": {},
   "outputs": [
    {
     "data": {
      "text/plain": [
       "name\n",
       "ONE A DAY® WOMENS                   2\n",
       "Caleb's Kola                        2\n",
       "I CAN'T BELIEVE IT'S NOT BUTTER!    2\n",
       "V8 Hydrate                          2\n",
       "Health Magazine                     2\n",
       "                                   ..\n",
       "Mug Root Beer                       1\n",
       "Tom's                               1\n",
       "test brand @1606765579244           1\n",
       "test brand @1597342520305           1\n",
       "PROMISE                             1\n",
       "Name: count, Length: 100, dtype: int64"
      ]
     },
     "execution_count": 12,
     "metadata": {},
     "output_type": "execute_result"
    }
   ],
   "source": [
    "brands_df['name'].value_counts().head(100)"
   ]
  },
  {
   "cell_type": "code",
   "execution_count": 13,
   "id": "7ad240a7-47b8-48f7-bee4-7e8b9778bf53",
   "metadata": {},
   "outputs": [
    {
     "data": {
      "text/plain": [
       "name\n",
       "False    735\n",
       "True     432\n",
       "Name: count, dtype: int64"
      ]
     },
     "execution_count": 13,
     "metadata": {},
     "output_type": "execute_result"
    }
   ],
   "source": [
    "brands_df['name'].str.contains('test', case=False).value_counts()"
   ]
  },
  {
   "cell_type": "code",
   "execution_count": 14,
   "id": "6c39462c-2b21-466e-a67f-a3e7a06fb949",
   "metadata": {},
   "outputs": [
    {
     "data": {
      "text/plain": [
       "brandCode\n",
       "                                 35\n",
       "HUGGIES                           2\n",
       "GOODNITES                         2\n",
       "TEST BRANDCODE @1612366146051     1\n",
       "TEST BRANDCODE @1612366146827     1\n",
       "                                 ..\n",
       "TEST BRANDCODE @1604946245499     1\n",
       "TEST BRANDCODE @1598639199117     1\n",
       "PULL UPS                          1\n",
       "TEST BRANDCODE @1605535020629     1\n",
       "BRISK                             1\n",
       "Name: count, Length: 100, dtype: int64"
      ]
     },
     "execution_count": 14,
     "metadata": {},
     "output_type": "execute_result"
    }
   ],
   "source": [
    "brands_df['brandCode'].value_counts().head(100)"
   ]
  },
  {
   "cell_type": "code",
   "execution_count": 15,
   "id": "a413c677-c94f-4200-a63e-40006bd9d094",
   "metadata": {},
   "outputs": [
    {
     "data": {
      "text/plain": [
       "brandCode\n",
       "False    573\n",
       "True     360\n",
       "Name: count, dtype: int64"
      ]
     },
     "execution_count": 15,
     "metadata": {},
     "output_type": "execute_result"
    }
   ],
   "source": [
    "brands_df['brandCode'].str.contains('test', case=False).value_counts()"
   ]
  },
  {
   "cell_type": "code",
   "execution_count": 16,
   "id": "27d33316-8072-45da-bf74-f804314cde22",
   "metadata": {},
   "outputs": [
    {
     "data": {
      "text/plain": [
       "_id               0\n",
       "barcode           0\n",
       "category          0\n",
       "categoryCode      4\n",
       "name              0\n",
       "topBrand        206\n",
       "brandCode        72\n",
       "cpg_$ref          0\n",
       "cpg_$id_$oid      0\n",
       "dtype: int64"
      ]
     },
     "execution_count": 16,
     "metadata": {},
     "output_type": "execute_result"
    }
   ],
   "source": [
    "brands_df[brands_df['name'].str.contains('test', case=False).fillna(False)].isnull().sum()"
   ]
  },
  {
   "cell_type": "code",
   "execution_count": 17,
   "id": "eff9ec48-5cc5-4b9b-bfdc-13ea157b676c",
   "metadata": {},
   "outputs": [
    {
     "name": "stderr",
     "output_type": "stream",
     "text": [
      "C:\\Users\\robxc\\AppData\\Local\\Temp\\ipykernel_15292\\973855833.py:1: FutureWarning: Downcasting object dtype arrays on .fillna, .ffill, .bfill is deprecated and will change in a future version. Call result.infer_objects(copy=False) instead. To opt-in to the future behavior, set `pd.set_option('future.no_silent_downcasting', True)`\n",
      "  brands_df[brands_df['brandCode'].str.contains('test', case=False).fillna(False)].isnull().sum()\n"
     ]
    },
    {
     "data": {
      "text/plain": [
       "_id               0\n",
       "barcode           0\n",
       "category          0\n",
       "categoryCode      3\n",
       "name              0\n",
       "topBrand        171\n",
       "brandCode         0\n",
       "cpg_$ref          0\n",
       "cpg_$id_$oid      0\n",
       "dtype: int64"
      ]
     },
     "execution_count": 17,
     "metadata": {},
     "output_type": "execute_result"
    }
   ],
   "source": [
    "brands_df[brands_df['brandCode'].str.contains('test', case=False).fillna(False)].isnull().sum()"
   ]
  },
  {
   "cell_type": "markdown",
   "id": "ebc3c76d-bc5c-494c-85bd-c64ed17860f0",
   "metadata": {},
   "source": [
    "Brands data EDA takeaways:\n",
    "- Brand name and brand code fields contain many values with the word \"test\". Seems like bad data.\n",
    "- Lots of nulls for category, category code, top brand, brand code. Most nulls removed after filtering out \"test\" brands.\n",
    "- Not sure what item barcode represents for a brand table."
   ]
  },
  {
   "cell_type": "markdown",
   "id": "ecba37c7-6cda-4fff-a9a8-2704bb4e0700",
   "metadata": {},
   "source": [
    "### Investigate receipts data"
   ]
  },
  {
   "cell_type": "code",
   "execution_count": 18,
   "id": "16db9274-5a01-40bc-a444-971c5eaa3cc9",
   "metadata": {},
   "outputs": [],
   "source": [
    "a_df = pd.json_normalize(receipts_df['createDate']).add_prefix('createDate_').iloc[:, 0].apply(lambda x: dt.fromtimestamp(x / 1000) if not np.isnan(x) else x)\n",
    "b_df = pd.json_normalize(receipts_df['dateScanned']).add_prefix('dateScanned_').iloc[:, 0].apply(lambda x: dt.fromtimestamp(x / 1000) if not np.isnan(x) else x)\n",
    "c_df = pd.json_normalize(receipts_df['finishedDate']).add_prefix('finishedDate_').iloc[:, 0].apply(lambda x: dt.fromtimestamp(x / 1000) if not np.isnan(x) else x)\n",
    "d_df = pd.json_normalize(receipts_df['modifyDate']).add_prefix('modifyDate_').iloc[:, 0].apply(lambda x: dt.fromtimestamp(x / 1000) if not np.isnan(x) else x)\n",
    "e_df = pd.json_normalize(receipts_df['pointsAwardedDate']).add_prefix('pointsAwardedDate_').iloc[:, 0].apply(lambda x: dt.fromtimestamp(x / 1000) if not np.isnan(x) else x)\n",
    "f_df = pd.json_normalize(receipts_df['purchaseDate']).add_prefix('purchaseDate_').iloc[:, 0].apply(lambda x: dt.fromtimestamp(x / 1000) if not np.isnan(x) else x)\n",
    "g_df = pd.json_normalize(receipts_df['_id'])\n",
    "\n",
    "receipts_df = pd.concat([receipts_df.drop(['createDate', 'dateScanned', 'finishedDate', 'modifyDate', 'pointsAwardedDate', 'purchaseDate', '_id'], axis=1), \n",
    "                         a_df, b_df, c_df, d_df, e_df, f_df, g_df], axis=1)"
   ]
  },
  {
   "cell_type": "code",
   "execution_count": 19,
   "id": "df6b556d-0420-410c-8f2c-0a68daf989bf",
   "metadata": {},
   "outputs": [
    {
     "data": {
      "text/plain": [
       "bonusPointsEarned                 float64\n",
       "bonusPointsEarnedReason            object\n",
       "pointsEarned                      float64\n",
       "purchasedItemCount                float64\n",
       "rewardsReceiptItemList             object\n",
       "rewardsReceiptStatus               object\n",
       "totalSpent                        float64\n",
       "userId                             object\n",
       "createDate_$date           datetime64[ns]\n",
       "dateScanned_$date          datetime64[ns]\n",
       "finishedDate_$date         datetime64[ns]\n",
       "modifyDate_$date           datetime64[ns]\n",
       "pointsAwardedDate_$date    datetime64[ns]\n",
       "purchaseDate_$date         datetime64[ns]\n",
       "$oid                               object\n",
       "dtype: object"
      ]
     },
     "execution_count": 19,
     "metadata": {},
     "output_type": "execute_result"
    }
   ],
   "source": [
    "receipts_df.dtypes"
   ]
  },
  {
   "cell_type": "code",
   "execution_count": 20,
   "id": "10cd269f-997a-4fdd-9a89-866ca25caae6",
   "metadata": {
    "scrolled": true
   },
   "outputs": [
    {
     "data": {
      "text/plain": [
       "bonusPointsEarned          575\n",
       "bonusPointsEarnedReason    575\n",
       "pointsEarned               510\n",
       "purchasedItemCount         484\n",
       "rewardsReceiptItemList     440\n",
       "rewardsReceiptStatus         0\n",
       "totalSpent                 435\n",
       "userId                       0\n",
       "createDate_$date             0\n",
       "dateScanned_$date            0\n",
       "finishedDate_$date         551\n",
       "modifyDate_$date             0\n",
       "pointsAwardedDate_$date    582\n",
       "purchaseDate_$date         448\n",
       "$oid                         0\n",
       "dtype: int64"
      ]
     },
     "execution_count": 20,
     "metadata": {},
     "output_type": "execute_result"
    }
   ],
   "source": [
    "receipts_df.isnull().sum()"
   ]
  },
  {
   "cell_type": "code",
   "execution_count": 21,
   "id": "29c59460-bb4a-4304-86a0-d2e78c1771db",
   "metadata": {
    "scrolled": true
   },
   "outputs": [
    {
     "data": {
      "text/plain": [
       "bonusPointsEarned          62\n",
       "bonusPointsEarnedReason    62\n",
       "pointsEarned                0\n",
       "purchasedItemCount          0\n",
       "rewardsReceiptItemList      2\n",
       "rewardsReceiptStatus        0\n",
       "totalSpent                  0\n",
       "userId                      0\n",
       "createDate_$date            0\n",
       "dateScanned_$date           0\n",
       "finishedDate_$date          0\n",
       "modifyDate_$date            0\n",
       "pointsAwardedDate_$date     4\n",
       "purchaseDate_$date          0\n",
       "$oid                        0\n",
       "dtype: int64"
      ]
     },
     "execution_count": 21,
     "metadata": {},
     "output_type": "execute_result"
    }
   ],
   "source": [
    "receipts_df[receipts_df['rewardsReceiptStatus'] == 'FINISHED'].isnull().sum()"
   ]
  },
  {
   "cell_type": "code",
   "execution_count": 22,
   "id": "0f015079-ae8c-44a3-9e93-e68069a51f81",
   "metadata": {},
   "outputs": [
    {
     "data": {
      "text/plain": [
       "1119"
      ]
     },
     "execution_count": 22,
     "metadata": {},
     "output_type": "execute_result"
    }
   ],
   "source": [
    "len(receipts_df)"
   ]
  },
  {
   "cell_type": "code",
   "execution_count": 23,
   "id": "33d2a254-2f0f-49aa-9980-47531c7fe339",
   "metadata": {},
   "outputs": [
    {
     "data": {
      "text/plain": [
       "rewardsReceiptStatus\n",
       "FINISHED     518\n",
       "SUBMITTED    434\n",
       "REJECTED      71\n",
       "PENDING       50\n",
       "FLAGGED       46\n",
       "Name: count, dtype: int64"
      ]
     },
     "execution_count": 23,
     "metadata": {},
     "output_type": "execute_result"
    }
   ],
   "source": [
    "receipts_df['rewardsReceiptStatus'].value_counts()"
   ]
  },
  {
   "cell_type": "code",
   "execution_count": 24,
   "id": "f6d2beea-db04-4276-9899-5d2354e3da7c",
   "metadata": {
    "scrolled": true
   },
   "outputs": [
    {
     "data": {
      "text/html": [
       "<div>\n",
       "<style scoped>\n",
       "    .dataframe tbody tr th:only-of-type {\n",
       "        vertical-align: middle;\n",
       "    }\n",
       "\n",
       "    .dataframe tbody tr th {\n",
       "        vertical-align: top;\n",
       "    }\n",
       "\n",
       "    .dataframe thead th {\n",
       "        text-align: right;\n",
       "    }\n",
       "</style>\n",
       "<table border=\"1\" class=\"dataframe\">\n",
       "  <thead>\n",
       "    <tr style=\"text-align: right;\">\n",
       "      <th></th>\n",
       "      <th>bonusPointsEarned</th>\n",
       "      <th>pointsEarned</th>\n",
       "      <th>purchasedItemCount</th>\n",
       "      <th>totalSpent</th>\n",
       "    </tr>\n",
       "  </thead>\n",
       "  <tbody>\n",
       "    <tr>\n",
       "      <th>count</th>\n",
       "      <td>544.000000</td>\n",
       "      <td>609.000000</td>\n",
       "      <td>635.00000</td>\n",
       "      <td>684.000000</td>\n",
       "    </tr>\n",
       "    <tr>\n",
       "      <th>mean</th>\n",
       "      <td>238.893382</td>\n",
       "      <td>585.962890</td>\n",
       "      <td>14.75748</td>\n",
       "      <td>77.796857</td>\n",
       "    </tr>\n",
       "    <tr>\n",
       "      <th>std</th>\n",
       "      <td>299.091731</td>\n",
       "      <td>1357.166947</td>\n",
       "      <td>61.13424</td>\n",
       "      <td>347.110349</td>\n",
       "    </tr>\n",
       "    <tr>\n",
       "      <th>min</th>\n",
       "      <td>5.000000</td>\n",
       "      <td>0.000000</td>\n",
       "      <td>0.00000</td>\n",
       "      <td>0.000000</td>\n",
       "    </tr>\n",
       "    <tr>\n",
       "      <th>25%</th>\n",
       "      <td>5.000000</td>\n",
       "      <td>5.000000</td>\n",
       "      <td>1.00000</td>\n",
       "      <td>1.000000</td>\n",
       "    </tr>\n",
       "    <tr>\n",
       "      <th>50%</th>\n",
       "      <td>45.000000</td>\n",
       "      <td>150.000000</td>\n",
       "      <td>2.00000</td>\n",
       "      <td>18.200000</td>\n",
       "    </tr>\n",
       "    <tr>\n",
       "      <th>75%</th>\n",
       "      <td>500.000000</td>\n",
       "      <td>750.000000</td>\n",
       "      <td>5.00000</td>\n",
       "      <td>34.960000</td>\n",
       "    </tr>\n",
       "    <tr>\n",
       "      <th>max</th>\n",
       "      <td>750.000000</td>\n",
       "      <td>10199.800000</td>\n",
       "      <td>689.00000</td>\n",
       "      <td>4721.950000</td>\n",
       "    </tr>\n",
       "  </tbody>\n",
       "</table>\n",
       "</div>"
      ],
      "text/plain": [
       "       bonusPointsEarned  pointsEarned  purchasedItemCount   totalSpent\n",
       "count         544.000000    609.000000           635.00000   684.000000\n",
       "mean          238.893382    585.962890            14.75748    77.796857\n",
       "std           299.091731   1357.166947            61.13424   347.110349\n",
       "min             5.000000      0.000000             0.00000     0.000000\n",
       "25%             5.000000      5.000000             1.00000     1.000000\n",
       "50%            45.000000    150.000000             2.00000    18.200000\n",
       "75%           500.000000    750.000000             5.00000    34.960000\n",
       "max           750.000000  10199.800000           689.00000  4721.950000"
      ]
     },
     "execution_count": 24,
     "metadata": {},
     "output_type": "execute_result"
    }
   ],
   "source": [
    "receipts_df[['bonusPointsEarned', 'pointsEarned', 'purchasedItemCount', 'totalSpent']].describe()"
   ]
  },
  {
   "cell_type": "code",
   "execution_count": 25,
   "id": "a8efe80b-42c1-431c-a46e-8b73e7a366b5",
   "metadata": {},
   "outputs": [
    {
     "data": {
      "text/html": [
       "<div>\n",
       "<style scoped>\n",
       "    .dataframe tbody tr th:only-of-type {\n",
       "        vertical-align: middle;\n",
       "    }\n",
       "\n",
       "    .dataframe tbody tr th {\n",
       "        vertical-align: top;\n",
       "    }\n",
       "\n",
       "    .dataframe thead th {\n",
       "        text-align: right;\n",
       "    }\n",
       "</style>\n",
       "<table border=\"1\" class=\"dataframe\">\n",
       "  <thead>\n",
       "    <tr style=\"text-align: right;\">\n",
       "      <th></th>\n",
       "      <th>bonusPointsEarned</th>\n",
       "      <th>pointsEarned</th>\n",
       "      <th>purchasedItemCount</th>\n",
       "      <th>totalSpent</th>\n",
       "    </tr>\n",
       "  </thead>\n",
       "  <tbody>\n",
       "    <tr>\n",
       "      <th>count</th>\n",
       "      <td>456.000000</td>\n",
       "      <td>518.000000</td>\n",
       "      <td>518.000000</td>\n",
       "      <td>518.000000</td>\n",
       "    </tr>\n",
       "    <tr>\n",
       "      <th>mean</th>\n",
       "      <td>240.839912</td>\n",
       "      <td>544.664865</td>\n",
       "      <td>15.799228</td>\n",
       "      <td>80.854305</td>\n",
       "    </tr>\n",
       "    <tr>\n",
       "      <th>std</th>\n",
       "      <td>296.777392</td>\n",
       "      <td>1153.416470</td>\n",
       "      <td>61.041209</td>\n",
       "      <td>337.853875</td>\n",
       "    </tr>\n",
       "    <tr>\n",
       "      <th>min</th>\n",
       "      <td>5.000000</td>\n",
       "      <td>0.000000</td>\n",
       "      <td>0.000000</td>\n",
       "      <td>0.000000</td>\n",
       "    </tr>\n",
       "    <tr>\n",
       "      <th>25%</th>\n",
       "      <td>5.000000</td>\n",
       "      <td>5.000000</td>\n",
       "      <td>1.000000</td>\n",
       "      <td>1.000000</td>\n",
       "    </tr>\n",
       "    <tr>\n",
       "      <th>50%</th>\n",
       "      <td>45.000000</td>\n",
       "      <td>166.800000</td>\n",
       "      <td>2.000000</td>\n",
       "      <td>11.000000</td>\n",
       "    </tr>\n",
       "    <tr>\n",
       "      <th>75%</th>\n",
       "      <td>500.000000</td>\n",
       "      <td>750.000000</td>\n",
       "      <td>5.000000</td>\n",
       "      <td>29.000000</td>\n",
       "    </tr>\n",
       "    <tr>\n",
       "      <th>max</th>\n",
       "      <td>750.000000</td>\n",
       "      <td>10199.800000</td>\n",
       "      <td>689.000000</td>\n",
       "      <td>4721.950000</td>\n",
       "    </tr>\n",
       "  </tbody>\n",
       "</table>\n",
       "</div>"
      ],
      "text/plain": [
       "       bonusPointsEarned  pointsEarned  purchasedItemCount   totalSpent\n",
       "count         456.000000    518.000000          518.000000   518.000000\n",
       "mean          240.839912    544.664865           15.799228    80.854305\n",
       "std           296.777392   1153.416470           61.041209   337.853875\n",
       "min             5.000000      0.000000            0.000000     0.000000\n",
       "25%             5.000000      5.000000            1.000000     1.000000\n",
       "50%            45.000000    166.800000            2.000000    11.000000\n",
       "75%           500.000000    750.000000            5.000000    29.000000\n",
       "max           750.000000  10199.800000          689.000000  4721.950000"
      ]
     },
     "execution_count": 25,
     "metadata": {},
     "output_type": "execute_result"
    }
   ],
   "source": [
    "receipts_df[['bonusPointsEarned', 'pointsEarned', 'purchasedItemCount', 'totalSpent']][receipts_df['rewardsReceiptStatus'] == 'FINISHED'].describe()"
   ]
  },
  {
   "cell_type": "code",
   "execution_count": 26,
   "id": "6915b822-ec0b-4b81-b40e-bcc3993f662d",
   "metadata": {
    "scrolled": true
   },
   "outputs": [
    {
     "data": {
      "text/html": [
       "<div>\n",
       "<style scoped>\n",
       "    .dataframe tbody tr th:only-of-type {\n",
       "        vertical-align: middle;\n",
       "    }\n",
       "\n",
       "    .dataframe tbody tr th {\n",
       "        vertical-align: top;\n",
       "    }\n",
       "\n",
       "    .dataframe thead th {\n",
       "        text-align: right;\n",
       "    }\n",
       "</style>\n",
       "<table border=\"1\" class=\"dataframe\">\n",
       "  <thead>\n",
       "    <tr style=\"text-align: right;\">\n",
       "      <th></th>\n",
       "      <th>createDate_$date</th>\n",
       "      <th>dateScanned_$date</th>\n",
       "      <th>finishedDate_$date</th>\n",
       "      <th>modifyDate_$date</th>\n",
       "      <th>pointsAwardedDate_$date</th>\n",
       "      <th>purchaseDate_$date</th>\n",
       "    </tr>\n",
       "  </thead>\n",
       "  <tbody>\n",
       "    <tr>\n",
       "      <th>count</th>\n",
       "      <td>1119</td>\n",
       "      <td>1119</td>\n",
       "      <td>568</td>\n",
       "      <td>1119</td>\n",
       "      <td>537</td>\n",
       "      <td>671</td>\n",
       "    </tr>\n",
       "    <tr>\n",
       "      <th>mean</th>\n",
       "      <td>2021-01-27 18:09:48.034587904</td>\n",
       "      <td>2021-01-27 18:09:48.034588928</td>\n",
       "      <td>2021-01-19 04:10:05.020589568</td>\n",
       "      <td>2021-01-28 07:14:28.703043584</td>\n",
       "      <td>2021-01-17 21:42:54.361266176</td>\n",
       "      <td>2020-12-21 02:53:24.980625920</td>\n",
       "    </tr>\n",
       "    <tr>\n",
       "      <th>min</th>\n",
       "      <td>2020-10-30 13:17:59</td>\n",
       "      <td>2020-10-30 13:17:59</td>\n",
       "      <td>2021-01-03 07:24:10</td>\n",
       "      <td>2021-01-03 07:24:10</td>\n",
       "      <td>2020-10-30 13:18:00</td>\n",
       "      <td>2017-10-29 17:00:00</td>\n",
       "    </tr>\n",
       "    <tr>\n",
       "      <th>25%</th>\n",
       "      <td>2021-01-14 11:13:03.690499840</td>\n",
       "      <td>2021-01-14 11:13:03.690499840</td>\n",
       "      <td>2021-01-08 13:22:42.500000</td>\n",
       "      <td>2021-01-14 13:32:25.500000</td>\n",
       "      <td>2021-01-07 10:15:47</td>\n",
       "      <td>2021-01-04 16:00:00</td>\n",
       "    </tr>\n",
       "    <tr>\n",
       "      <th>50%</th>\n",
       "      <td>2021-01-29 09:18:22</td>\n",
       "      <td>2021-01-29 09:18:22</td>\n",
       "      <td>2021-01-19 13:13:57.500000</td>\n",
       "      <td>2021-01-29 09:18:47</td>\n",
       "      <td>2021-01-19 12:54:02</td>\n",
       "      <td>2021-01-13 07:18:59</td>\n",
       "    </tr>\n",
       "    <tr>\n",
       "      <th>75%</th>\n",
       "      <td>2021-02-07 05:20:13.736999936</td>\n",
       "      <td>2021-02-07 05:20:13.736999936</td>\n",
       "      <td>2021-01-27 09:42:13.500000</td>\n",
       "      <td>2021-02-07 05:20:13.736999936</td>\n",
       "      <td>2021-01-26 17:12:24</td>\n",
       "      <td>2021-01-25 17:12:58</td>\n",
       "    </tr>\n",
       "    <tr>\n",
       "      <th>max</th>\n",
       "      <td>2021-03-01 15:17:34.772000</td>\n",
       "      <td>2021-03-01 15:17:34.772000</td>\n",
       "      <td>2021-02-26 14:36:25</td>\n",
       "      <td>2021-03-01 15:17:34.772000</td>\n",
       "      <td>2021-02-26 14:36:25</td>\n",
       "      <td>2021-03-08 09:37:13</td>\n",
       "    </tr>\n",
       "  </tbody>\n",
       "</table>\n",
       "</div>"
      ],
      "text/plain": [
       "                    createDate_$date              dateScanned_$date  \\\n",
       "count                           1119                           1119   \n",
       "mean   2021-01-27 18:09:48.034587904  2021-01-27 18:09:48.034588928   \n",
       "min              2020-10-30 13:17:59            2020-10-30 13:17:59   \n",
       "25%    2021-01-14 11:13:03.690499840  2021-01-14 11:13:03.690499840   \n",
       "50%              2021-01-29 09:18:22            2021-01-29 09:18:22   \n",
       "75%    2021-02-07 05:20:13.736999936  2021-02-07 05:20:13.736999936   \n",
       "max       2021-03-01 15:17:34.772000     2021-03-01 15:17:34.772000   \n",
       "\n",
       "                  finishedDate_$date               modifyDate_$date  \\\n",
       "count                            568                           1119   \n",
       "mean   2021-01-19 04:10:05.020589568  2021-01-28 07:14:28.703043584   \n",
       "min              2021-01-03 07:24:10            2021-01-03 07:24:10   \n",
       "25%       2021-01-08 13:22:42.500000     2021-01-14 13:32:25.500000   \n",
       "50%       2021-01-19 13:13:57.500000            2021-01-29 09:18:47   \n",
       "75%       2021-01-27 09:42:13.500000  2021-02-07 05:20:13.736999936   \n",
       "max              2021-02-26 14:36:25     2021-03-01 15:17:34.772000   \n",
       "\n",
       "             pointsAwardedDate_$date             purchaseDate_$date  \n",
       "count                            537                            671  \n",
       "mean   2021-01-17 21:42:54.361266176  2020-12-21 02:53:24.980625920  \n",
       "min              2020-10-30 13:18:00            2017-10-29 17:00:00  \n",
       "25%              2021-01-07 10:15:47            2021-01-04 16:00:00  \n",
       "50%              2021-01-19 12:54:02            2021-01-13 07:18:59  \n",
       "75%              2021-01-26 17:12:24            2021-01-25 17:12:58  \n",
       "max              2021-02-26 14:36:25            2021-03-08 09:37:13  "
      ]
     },
     "execution_count": 26,
     "metadata": {},
     "output_type": "execute_result"
    }
   ],
   "source": [
    "receipts_df[['createDate_$date', 'dateScanned_$date', 'finishedDate_$date', 'modifyDate_$date', 'pointsAwardedDate_$date', \n",
    "             'purchaseDate_$date']].describe()"
   ]
  },
  {
   "cell_type": "markdown",
   "id": "7a1ce199-2fea-444c-bd0e-d7c104102615",
   "metadata": {},
   "source": [
    "Receipts data EDA takeaways:\n",
    "- Lots of null values for the various rewards points columns. Upon further inspection, most of the nulls are due to the rewards receipt status being unfinished. Among finished rewards receipts, there is a marginal null count."
   ]
  },
  {
   "cell_type": "markdown",
   "id": "6169b797-a9de-49b9-a49e-a4ca6686af5a",
   "metadata": {},
   "source": [
    "##### Investigate items within receipts data"
   ]
  },
  {
   "cell_type": "code",
   "execution_count": 28,
   "id": "e775d2dc-c544-453b-bf85-bd18aa4007d6",
   "metadata": {},
   "outputs": [],
   "source": [
    "items_df = pd.DataFrame()\n",
    "\n",
    "for i in range(1, len(receipts_df)):\n",
    "    if isinstance(receipts_df['rewardsReceiptItemList'].iloc[i], list):\n",
    "        item_row = pd.json_normalize(receipts_df['rewardsReceiptItemList'].iloc[i], sep='_')\n",
    "        item_row['receipt_id'] = receipts_df['$oid'].iloc[i]\n",
    "        item_row['transaction_no'] = i\n",
    "        items_df = pd.concat([items_df, item_row], axis=0)"
   ]
  },
  {
   "cell_type": "code",
   "execution_count": 29,
   "id": "4e85d993-ff83-4045-a30a-010ee1652d6d",
   "metadata": {},
   "outputs": [],
   "source": [
    "# items_df.to_csv('items.csv', index=False)"
   ]
  },
  {
   "cell_type": "code",
   "execution_count": 30,
   "id": "bbb39362-81ec-4218-9006-18bf9dbeb883",
   "metadata": {},
   "outputs": [
    {
     "data": {
      "text/plain": [
       "barcode                                object\n",
       "description                            object\n",
       "finalPrice                             object\n",
       "itemPrice                              object\n",
       "partnerItemId                          object\n",
       "quantityPurchased                     float64\n",
       "needsFetchReview                       object\n",
       "needsFetchReviewReason                 object\n",
       "pointsNotAwardedReason                 object\n",
       "pointsPayerId                          object\n",
       "preventTargetGapPoints                 object\n",
       "rewardsGroup                           object\n",
       "rewardsProductPartnerId                object\n",
       "userFlaggedBarcode                     object\n",
       "userFlaggedDescription                 object\n",
       "userFlaggedNewItem                     object\n",
       "userFlaggedPrice                       object\n",
       "userFlaggedQuantity                   float64\n",
       "receipt_id                             object\n",
       "transaction_no                          int64\n",
       "originalMetaBriteBarcode               object\n",
       "originalMetaBriteDescription           object\n",
       "brandCode                              object\n",
       "competitorRewardsGroup                 object\n",
       "discountedItemPrice                    object\n",
       "originalReceiptItemText                object\n",
       "itemNumber                             object\n",
       "originalMetaBriteQuantityPurchased    float64\n",
       "pointsEarned                           object\n",
       "targetPrice                            object\n",
       "competitiveProduct                     object\n",
       "originalFinalPrice                     object\n",
       "originalMetaBriteItemPrice             object\n",
       "deleted                                object\n",
       "priceAfterCoupon                       object\n",
       "metabriteCampaignId                    object\n",
       "dtype: object"
      ]
     },
     "execution_count": 30,
     "metadata": {},
     "output_type": "execute_result"
    }
   ],
   "source": [
    "items_df.dtypes"
   ]
  },
  {
   "cell_type": "code",
   "execution_count": 31,
   "id": "6d2922a3-e556-458e-8129-9a0049721864",
   "metadata": {},
   "outputs": [
    {
     "data": {
      "text/plain": [
       "barcode                               3851\n",
       "description                            381\n",
       "finalPrice                             174\n",
       "itemPrice                              174\n",
       "partnerItemId                            0\n",
       "quantityPurchased                      174\n",
       "needsFetchReview                      6128\n",
       "needsFetchReviewReason                6721\n",
       "pointsNotAwardedReason                6600\n",
       "pointsPayerId                         5673\n",
       "preventTargetGapPoints                6583\n",
       "rewardsGroup                          5209\n",
       "rewardsProductPartnerId               4671\n",
       "userFlaggedBarcode                    6604\n",
       "userFlaggedDescription                6735\n",
       "userFlaggedNewItem                    6618\n",
       "userFlaggedPrice                      6642\n",
       "userFlaggedQuantity                   6642\n",
       "receipt_id                               0\n",
       "transaction_no                           0\n",
       "originalMetaBriteBarcode              6869\n",
       "originalMetaBriteDescription          6930\n",
       "brandCode                             4340\n",
       "competitorRewardsGroup                6665\n",
       "discountedItemPrice                   1171\n",
       "originalReceiptItemText               1180\n",
       "itemNumber                            6787\n",
       "originalMetaBriteQuantityPurchased    6925\n",
       "pointsEarned                          6013\n",
       "targetPrice                           6562\n",
       "competitiveProduct                    6295\n",
       "originalFinalPrice                    6931\n",
       "originalMetaBriteItemPrice            6931\n",
       "deleted                               6931\n",
       "priceAfterCoupon                      5984\n",
       "metabriteCampaignId                   6077\n",
       "dtype: int64"
      ]
     },
     "execution_count": 31,
     "metadata": {},
     "output_type": "execute_result"
    }
   ],
   "source": [
    "items_df.isnull().sum()"
   ]
  },
  {
   "cell_type": "code",
   "execution_count": 32,
   "id": "01fcb9cc-c7c4-4169-948d-339ad9bcaa6b",
   "metadata": {},
   "outputs": [
    {
     "data": {
      "text/plain": [
       "6940"
      ]
     },
     "execution_count": 32,
     "metadata": {},
     "output_type": "execute_result"
    }
   ],
   "source": [
    "len(items_df)"
   ]
  },
  {
   "cell_type": "code",
   "execution_count": 33,
   "id": "336437c3-eef8-4fd9-b445-ec1dac14fd4f",
   "metadata": {
    "scrolled": true
   },
   "outputs": [
    {
     "data": {
      "text/plain": [
       "description\n",
       "ITEM NOT FOUND                                                         172\n",
       "KLARBRUNN 12PK 12 FL OZ                                                120\n",
       "HUGGIES SIMPLY CLEAN PREMOISTENED WIPE FRAGRANCE FREE BAG 216 COUNT     92\n",
       "MILLER LITE 24 PACK 12OZ CAN                                            90\n",
       "KLEENEX POP UP RECTANGLE BOX FACIAL TISSUE 2 PLY 8PK 160 CT             87\n",
       "                                                                      ... \n",
       "CEEEZ IT CRCKR                                                           1\n",
       "GEVALIA KAFFE Caramel Iced Coffee with Almond Milk, 33.8 fl oz           1\n",
       "HEINZ Cleaning Vinegar, 1 GAL                                            1\n",
       "ORE-IDA Diced Hash Brown Potatoes 5 lb. Bag                              1\n",
       "CAPRI SUN Juice Drink, Variety Pack - 40 pack, 6 fl oz pouches           1\n",
       "Name: count, Length: 1889, dtype: int64"
      ]
     },
     "execution_count": 33,
     "metadata": {},
     "output_type": "execute_result"
    }
   ],
   "source": [
    "items_df['description'].value_counts()"
   ]
  },
  {
   "cell_type": "code",
   "execution_count": 48,
   "id": "c6bec078-7ceb-41bf-bce4-23ce55d15f1c",
   "metadata": {
    "scrolled": true
   },
   "outputs": [
    {
     "data": {
      "text/plain": [
       "brandCode\n",
       "HY-VEE                       291\n",
       "BEN AND JERRYS               180\n",
       "PEPSI                         93\n",
       "KROGER                        89\n",
       "KLEENEX                       88\n",
       "KNORR                         79\n",
       "DORITOS                       77\n",
       "BORDEN                        71\n",
       "KRAFT                         60\n",
       "DOLE                          53\n",
       "FOLGERS                       38\n",
       "PRINGLES                      29\n",
       "HIDDEN VALLEY                 29\n",
       "NATURE'S PATH ORGANIC         28\n",
       "LAURA'S LEAN BEEF             27\n",
       "KELLOGG'S                     27\n",
       "LIGHT & FIT GREEK             26\n",
       "JUST BARE                     25\n",
       "HILLSHIRE FARM                24\n",
       "MCCORMICK GRILL MATES         24\n",
       "MARIE CALLENDER'S             23\n",
       "KASHI                         23\n",
       "TOSTITOS                      23\n",
       "BRAND                         22\n",
       "BUSH'S BEST                   22\n",
       "BIGELOW                       20\n",
       "BETTY CROCKER                 19\n",
       "HEMPLER'S                     19\n",
       "PRIVATE SELECTION             19\n",
       "CHEESE                        18\n",
       "LIGHT & FIT                   18\n",
       "MISSION                       18\n",
       "KIT KAT                       17\n",
       "STARKIST                      17\n",
       "CAMPBELL'S                    17\n",
       "GREEN GIANT                   16\n",
       "KRUSTEAZ                      16\n",
       "JELL-O                        16\n",
       "HARVEST SNAPS                 15\n",
       "RICE-A-RONI                   15\n",
       "KRAZY GLUE                    15\n",
       "DOLE CHILLED FRUIT JUICES     14\n",
       "HELLMANN'S/BEST FOODS         13\n",
       "LIPTON                        13\n",
       "CRACKER BARREL                13\n",
       "HERSHEY'S KISSES              12\n",
       "GENERAL MILLS                 12\n",
       "EL MONTEREY                   12\n",
       "JIMMY DEAN                    12\n",
       "CAL-ORGANIC FARMS             12\n",
       "Name: count, dtype: int64"
      ]
     },
     "execution_count": 48,
     "metadata": {},
     "output_type": "execute_result"
    }
   ],
   "source": [
    "items_df['brandCode'].value_counts().head(50)"
   ]
  },
  {
   "cell_type": "markdown",
   "id": "4d746546-aac9-42c4-97db-426e65a5b9f4",
   "metadata": {},
   "source": [
    "Items data EDA takeaways:\n",
    "- More than half of items missing barcodes. Some \"Item Not Found\" values.\n",
    "- Transaction data is semi-structured and most fields are null. Consider storing in NoSQL database or keep as JSON string."
   ]
  },
  {
   "cell_type": "markdown",
   "id": "e0531e07-5b5e-4b9b-8582-e3e75afb278f",
   "metadata": {},
   "source": [
    "### Investigate users data"
   ]
  },
  {
   "cell_type": "code",
   "execution_count": 34,
   "id": "5b93859e-0bfc-40c5-8168-05eee23355db",
   "metadata": {},
   "outputs": [],
   "source": [
    "created_df = pd.json_normalize(users_df['createdDate']).add_prefix('createdDate_').iloc[:, 0].apply(lambda x: dt.fromtimestamp(x / 1000) if not np.isnan(x) else x)\n",
    "login_df = pd.json_normalize(users_df['lastLogin']).add_prefix('lastLogin_').iloc[:, 0].apply(lambda x: dt.fromtimestamp(x / 1000) if not np.isnan(x) else x)\n",
    "\n",
    "users_df = pd.concat([users_df.drop(['createdDate', 'lastLogin'], axis=1), created_df, login_df], axis=1)"
   ]
  },
  {
   "cell_type": "code",
   "execution_count": 35,
   "id": "e688354e-5bc1-4e27-97ea-d4c7b162094c",
   "metadata": {
    "scrolled": true
   },
   "outputs": [
    {
     "data": {
      "text/html": [
       "<div>\n",
       "<style scoped>\n",
       "    .dataframe tbody tr th:only-of-type {\n",
       "        vertical-align: middle;\n",
       "    }\n",
       "\n",
       "    .dataframe tbody tr th {\n",
       "        vertical-align: top;\n",
       "    }\n",
       "\n",
       "    .dataframe thead th {\n",
       "        text-align: right;\n",
       "    }\n",
       "</style>\n",
       "<table border=\"1\" class=\"dataframe\">\n",
       "  <thead>\n",
       "    <tr style=\"text-align: right;\">\n",
       "      <th></th>\n",
       "      <th>_id</th>\n",
       "      <th>active</th>\n",
       "      <th>role</th>\n",
       "      <th>signUpSource</th>\n",
       "      <th>state</th>\n",
       "      <th>createdDate_$date</th>\n",
       "      <th>lastLogin_$date</th>\n",
       "    </tr>\n",
       "  </thead>\n",
       "  <tbody>\n",
       "    <tr>\n",
       "      <th>0</th>\n",
       "      <td>{'$oid': '5ff1e194b6a9d73a3a9f1052'}</td>\n",
       "      <td>True</td>\n",
       "      <td>consumer</td>\n",
       "      <td>Email</td>\n",
       "      <td>WI</td>\n",
       "      <td>2021-01-03 07:24:04.800</td>\n",
       "      <td>2021-01-03 07:25:37.858</td>\n",
       "    </tr>\n",
       "    <tr>\n",
       "      <th>1</th>\n",
       "      <td>{'$oid': '5ff1e194b6a9d73a3a9f1052'}</td>\n",
       "      <td>True</td>\n",
       "      <td>consumer</td>\n",
       "      <td>Email</td>\n",
       "      <td>WI</td>\n",
       "      <td>2021-01-03 07:24:04.800</td>\n",
       "      <td>2021-01-03 07:25:37.858</td>\n",
       "    </tr>\n",
       "    <tr>\n",
       "      <th>2</th>\n",
       "      <td>{'$oid': '5ff1e194b6a9d73a3a9f1052'}</td>\n",
       "      <td>True</td>\n",
       "      <td>consumer</td>\n",
       "      <td>Email</td>\n",
       "      <td>WI</td>\n",
       "      <td>2021-01-03 07:24:04.800</td>\n",
       "      <td>2021-01-03 07:25:37.858</td>\n",
       "    </tr>\n",
       "    <tr>\n",
       "      <th>3</th>\n",
       "      <td>{'$oid': '5ff1e1eacfcf6c399c274ae6'}</td>\n",
       "      <td>True</td>\n",
       "      <td>consumer</td>\n",
       "      <td>Email</td>\n",
       "      <td>WI</td>\n",
       "      <td>2021-01-03 07:25:30.554</td>\n",
       "      <td>2021-01-03 07:25:30.597</td>\n",
       "    </tr>\n",
       "    <tr>\n",
       "      <th>4</th>\n",
       "      <td>{'$oid': '5ff1e194b6a9d73a3a9f1052'}</td>\n",
       "      <td>True</td>\n",
       "      <td>consumer</td>\n",
       "      <td>Email</td>\n",
       "      <td>WI</td>\n",
       "      <td>2021-01-03 07:24:04.800</td>\n",
       "      <td>2021-01-03 07:25:37.858</td>\n",
       "    </tr>\n",
       "  </tbody>\n",
       "</table>\n",
       "</div>"
      ],
      "text/plain": [
       "                                    _id  active      role signUpSource state  \\\n",
       "0  {'$oid': '5ff1e194b6a9d73a3a9f1052'}    True  consumer        Email    WI   \n",
       "1  {'$oid': '5ff1e194b6a9d73a3a9f1052'}    True  consumer        Email    WI   \n",
       "2  {'$oid': '5ff1e194b6a9d73a3a9f1052'}    True  consumer        Email    WI   \n",
       "3  {'$oid': '5ff1e1eacfcf6c399c274ae6'}    True  consumer        Email    WI   \n",
       "4  {'$oid': '5ff1e194b6a9d73a3a9f1052'}    True  consumer        Email    WI   \n",
       "\n",
       "        createdDate_$date         lastLogin_$date  \n",
       "0 2021-01-03 07:24:04.800 2021-01-03 07:25:37.858  \n",
       "1 2021-01-03 07:24:04.800 2021-01-03 07:25:37.858  \n",
       "2 2021-01-03 07:24:04.800 2021-01-03 07:25:37.858  \n",
       "3 2021-01-03 07:25:30.554 2021-01-03 07:25:30.597  \n",
       "4 2021-01-03 07:24:04.800 2021-01-03 07:25:37.858  "
      ]
     },
     "execution_count": 35,
     "metadata": {},
     "output_type": "execute_result"
    }
   ],
   "source": [
    "users_df.head()"
   ]
  },
  {
   "cell_type": "code",
   "execution_count": 36,
   "id": "840bdc0a-cae7-4a51-872a-9a83b7fd50b5",
   "metadata": {},
   "outputs": [
    {
     "data": {
      "text/plain": [
       "_id                          object\n",
       "active                         bool\n",
       "role                         object\n",
       "signUpSource                 object\n",
       "state                        object\n",
       "createdDate_$date    datetime64[ns]\n",
       "lastLogin_$date      datetime64[ns]\n",
       "dtype: object"
      ]
     },
     "execution_count": 36,
     "metadata": {},
     "output_type": "execute_result"
    }
   ],
   "source": [
    "users_df.dtypes"
   ]
  },
  {
   "cell_type": "code",
   "execution_count": 37,
   "id": "54c50719-84e0-4231-9a19-e8013da77745",
   "metadata": {
    "scrolled": true
   },
   "outputs": [
    {
     "data": {
      "text/plain": [
       "_id                   0\n",
       "active                0\n",
       "role                  0\n",
       "signUpSource         48\n",
       "state                56\n",
       "createdDate_$date     0\n",
       "lastLogin_$date      62\n",
       "dtype: int64"
      ]
     },
     "execution_count": 37,
     "metadata": {},
     "output_type": "execute_result"
    }
   ],
   "source": [
    "users_df.isnull().sum()"
   ]
  },
  {
   "cell_type": "code",
   "execution_count": 38,
   "id": "dba65ae2-b252-45ec-a8eb-941d4df48a18",
   "metadata": {},
   "outputs": [
    {
     "data": {
      "text/plain": [
       "495"
      ]
     },
     "execution_count": 38,
     "metadata": {},
     "output_type": "execute_result"
    }
   ],
   "source": [
    "len(users_df)"
   ]
  },
  {
   "cell_type": "code",
   "execution_count": 39,
   "id": "5c8f5cad-9347-4c85-b68a-6585bb90b86d",
   "metadata": {},
   "outputs": [
    {
     "data": {
      "text/plain": [
       "active\n",
       "True     494\n",
       "False      1\n",
       "Name: count, dtype: int64"
      ]
     },
     "execution_count": 39,
     "metadata": {},
     "output_type": "execute_result"
    }
   ],
   "source": [
    "users_df['active'].value_counts()"
   ]
  },
  {
   "cell_type": "code",
   "execution_count": 40,
   "id": "15948b42-d670-43fa-9d59-44af6468d3cc",
   "metadata": {},
   "outputs": [
    {
     "data": {
      "text/plain": [
       "role\n",
       "consumer       413\n",
       "fetch-staff     82\n",
       "Name: count, dtype: int64"
      ]
     },
     "execution_count": 40,
     "metadata": {},
     "output_type": "execute_result"
    }
   ],
   "source": [
    "users_df['role'].value_counts()"
   ]
  },
  {
   "cell_type": "code",
   "execution_count": 41,
   "id": "9048e717-cb2d-4c03-b738-e2aafc6dab61",
   "metadata": {},
   "outputs": [
    {
     "data": {
      "text/plain": [
       "signUpSource\n",
       "Email     443\n",
       "Google      4\n",
       "Name: count, dtype: int64"
      ]
     },
     "execution_count": 41,
     "metadata": {},
     "output_type": "execute_result"
    }
   ],
   "source": [
    "users_df['signUpSource'].value_counts()"
   ]
  },
  {
   "cell_type": "code",
   "execution_count": 42,
   "id": "90e4c91a-221b-4af5-95ad-9231b218015d",
   "metadata": {
    "scrolled": true
   },
   "outputs": [
    {
     "data": {
      "text/plain": [
       "state\n",
       "WI    396\n",
       "NH     20\n",
       "AL     12\n",
       "OH      5\n",
       "IL      3\n",
       "KY      1\n",
       "CO      1\n",
       "SC      1\n",
       "Name: count, dtype: int64"
      ]
     },
     "execution_count": 42,
     "metadata": {},
     "output_type": "execute_result"
    }
   ],
   "source": [
    "users_df['state'].value_counts()"
   ]
  },
  {
   "cell_type": "code",
   "execution_count": 43,
   "id": "2971b171-0348-4381-a312-7eea6acb2529",
   "metadata": {
    "scrolled": true
   },
   "outputs": [
    {
     "data": {
      "text/html": [
       "<div>\n",
       "<style scoped>\n",
       "    .dataframe tbody tr th:only-of-type {\n",
       "        vertical-align: middle;\n",
       "    }\n",
       "\n",
       "    .dataframe tbody tr th {\n",
       "        vertical-align: top;\n",
       "    }\n",
       "\n",
       "    .dataframe thead th {\n",
       "        text-align: right;\n",
       "    }\n",
       "</style>\n",
       "<table border=\"1\" class=\"dataframe\">\n",
       "  <thead>\n",
       "    <tr style=\"text-align: right;\">\n",
       "      <th></th>\n",
       "      <th>createdDate_$date</th>\n",
       "      <th>lastLogin_$date</th>\n",
       "    </tr>\n",
       "  </thead>\n",
       "  <tbody>\n",
       "    <tr>\n",
       "      <th>count</th>\n",
       "      <td>495</td>\n",
       "      <td>433</td>\n",
       "    </tr>\n",
       "    <tr>\n",
       "      <th>mean</th>\n",
       "      <td>2020-08-05 17:37:20.606103040</td>\n",
       "      <td>2021-01-22 23:48:08.892304640</td>\n",
       "    </tr>\n",
       "    <tr>\n",
       "      <th>min</th>\n",
       "      <td>2014-12-19 06:21:22.381000</td>\n",
       "      <td>2018-05-07 10:23:40.003000</td>\n",
       "    </tr>\n",
       "    <tr>\n",
       "      <th>25%</th>\n",
       "      <td>2021-01-04 11:30:17.483500032</td>\n",
       "      <td>2021-01-08 10:14:53.928000</td>\n",
       "    </tr>\n",
       "    <tr>\n",
       "      <th>50%</th>\n",
       "      <td>2021-01-13 12:19:38.720999936</td>\n",
       "      <td>2021-01-21 05:57:48.697999872</td>\n",
       "    </tr>\n",
       "    <tr>\n",
       "      <th>75%</th>\n",
       "      <td>2021-01-25 09:31:59.408999936</td>\n",
       "      <td>2021-02-03 07:34:11.043000064</td>\n",
       "    </tr>\n",
       "    <tr>\n",
       "      <th>max</th>\n",
       "      <td>2021-02-12 06:11:06.240000</td>\n",
       "      <td>2021-03-05 08:52:23.204000</td>\n",
       "    </tr>\n",
       "  </tbody>\n",
       "</table>\n",
       "</div>"
      ],
      "text/plain": [
       "                   createdDate_$date                lastLogin_$date\n",
       "count                            495                            433\n",
       "mean   2020-08-05 17:37:20.606103040  2021-01-22 23:48:08.892304640\n",
       "min       2014-12-19 06:21:22.381000     2018-05-07 10:23:40.003000\n",
       "25%    2021-01-04 11:30:17.483500032     2021-01-08 10:14:53.928000\n",
       "50%    2021-01-13 12:19:38.720999936  2021-01-21 05:57:48.697999872\n",
       "75%    2021-01-25 09:31:59.408999936  2021-02-03 07:34:11.043000064\n",
       "max       2021-02-12 06:11:06.240000     2021-03-05 08:52:23.204000"
      ]
     },
     "execution_count": 43,
     "metadata": {},
     "output_type": "execute_result"
    }
   ],
   "source": [
    "users_df[['createdDate_$date', 'lastLogin_$date']].describe()"
   ]
  },
  {
   "cell_type": "markdown",
   "id": "72abd1ff-21f8-4edc-8d35-d880f8d2550f",
   "metadata": {},
   "source": [
    "Users data EDA takeaways:\n",
    "\n",
    "- There are some nulls for last login, signup source, and state, but otherwise no significant data issues."
   ]
  }
 ],
 "metadata": {
  "kernelspec": {
   "display_name": "Python 3 (ipykernel)",
   "language": "python",
   "name": "python3"
  },
  "language_info": {
   "codemirror_mode": {
    "name": "ipython",
    "version": 3
   },
   "file_extension": ".py",
   "mimetype": "text/x-python",
   "name": "python",
   "nbconvert_exporter": "python",
   "pygments_lexer": "ipython3",
   "version": "3.11.9"
  }
 },
 "nbformat": 4,
 "nbformat_minor": 5
}
